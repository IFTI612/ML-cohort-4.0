{
 "cells": [
  {
   "cell_type": "code",
   "execution_count": 17,
   "id": "fbc8de1e-168f-4a62-97b5-04fa6fed7574",
   "metadata": {},
   "outputs": [],
   "source": [
    "#pip install notebook\n",
    "#jupyter install"
   ]
  },
  {
   "cell_type": "code",
   "execution_count": 18,
   "id": "f4a92b91-7aa8-41ce-8c0e-7c30e8f34f87",
   "metadata": {},
   "outputs": [],
   "source": [
    "import numpy as np"
   ]
  },
  {
   "cell_type": "code",
   "execution_count": 19,
   "id": "f9992c9e-4918-4976-8b87-6fc52c4eaf48",
   "metadata": {},
   "outputs": [
    {
     "name": "stdout",
     "output_type": "stream",
     "text": [
      "[1, 2, 3, 4, 5]\n"
     ]
    }
   ],
   "source": [
    "lst = [1,2,3,4,5]#1D array\n",
    "print(lst)"
   ]
  },
  {
   "cell_type": "code",
   "execution_count": 20,
   "id": "2f6e2ce2-b5b9-428d-bbbb-f8270fc0c72c",
   "metadata": {},
   "outputs": [
    {
     "name": "stdout",
     "output_type": "stream",
     "text": [
      "1D array\n",
      "[1 2 3 4 5]\n",
      "2D Array\n",
      "[[ 1  2  3  4  5]\n",
      " [ 6  7  8  9 10]]\n",
      "3D Array\n",
      "[[[ 1  2  3  4  5]\n",
      "  [ 6  7  8  9 10]\n",
      "  [11 12 13 14 15]]]\n"
     ]
    }
   ],
   "source": [
    "print('1D array')\n",
    "a = np.array([1,2,3,4,5])\n",
    "print(a)\n",
    "\n",
    "\n",
    "#-----------------------------------------------------------------------------\n",
    "\n",
    "\n",
    "print('2D Array')\n",
    "b = np.array([[1,2,3,4,5],\n",
    "              [6,7,8,9,10]])\n",
    "print(b)\n",
    "\n",
    "#-----------------------------------------------------------------------------\n",
    "\n",
    "\n",
    "print(\"3D Array\")\n",
    "c = np.array([[[1,2,3,4,5],\n",
    "              [6,7,8,9,10],\n",
    "             [11,12,13,14,15]]])\n",
    "print(c)"
   ]
  },
  {
   "cell_type": "code",
   "execution_count": 21,
   "id": "f757576e-d937-422e-a052-fdeecfb9046b",
   "metadata": {},
   "outputs": [
    {
     "name": "stdout",
     "output_type": "stream",
     "text": [
      "5\n",
      "10\n",
      "15\n"
     ]
    }
   ],
   "source": [
    "print(a.size)\n",
    "print(b.size)\n",
    "print(c.size)"
   ]
  },
  {
   "cell_type": "code",
   "execution_count": 22,
   "id": "b4e56e62-7723-461d-b1ce-0cb52ef701b6",
   "metadata": {},
   "outputs": [
    {
     "name": "stdout",
     "output_type": "stream",
     "text": [
      "(5,)\n",
      "(2, 5)\n",
      "(1, 3, 5)\n"
     ]
    }
   ],
   "source": [
    "print(a.shape)\n",
    "print(b.shape)\n",
    "print(c.shape)"
   ]
  },
  {
   "cell_type": "code",
   "execution_count": 23,
   "id": "3648eae3-c47c-4680-aa1b-920ba04c0195",
   "metadata": {},
   "outputs": [
    {
     "name": "stdout",
     "output_type": "stream",
     "text": [
      "float64\n"
     ]
    }
   ],
   "source": [
    "d = np.array([[1,2,3,4.2,5],\n",
    "            [6,7,8.9,9,10],\n",
    "            [11,12,13,14,15]])\n",
    "print(d.dtype) #getting data type"
   ]
  },
  {
   "cell_type": "code",
   "execution_count": 24,
   "id": "72e824e1-f1a8-4b29-89a1-44c8922cb1f6",
   "metadata": {},
   "outputs": [],
   "source": [
    "#transpose matrix\n",
    "#addition of 2 2D matrix"
   ]
  },
  {
   "cell_type": "code",
   "execution_count": null,
   "id": "69aa5935-47f5-42db-9828-1f8178e673b7",
   "metadata": {},
   "outputs": [
    {
     "name": "stdout",
     "output_type": "stream",
     "text": [
      "[[ 1  6 11]\n",
      " [ 2  7 12]\n",
      " [ 3  8 13]]\n"
     ]
    }
   ],
   "source": [
    "#transpose matrix(task 1)\n",
    "e = np.array([[1,2,3],\n",
    "            [6,7,8],\n",
    "            [11,12,13]])\n",
    "\n",
    "e_transpose = e.transpose()\n",
    "print(e_transpose)"
   ]
  },
  {
   "cell_type": "code",
   "execution_count": null,
   "id": "93afd76a",
   "metadata": {},
   "outputs": [
    {
     "name": "stdout",
     "output_type": "stream",
     "text": [
      "[2 4 6]\n"
     ]
    }
   ],
   "source": [
    "#how to add matrix(task 1)\n",
    "x = np.array([1,2,3])\n",
    "y = np.array([1,2,3])\n",
    "sum = x + y\n",
    "print(sum)"
   ]
  },
  {
   "cell_type": "code",
   "execution_count": 30,
   "id": "05ed0a0d",
   "metadata": {},
   "outputs": [
    {
     "data": {
      "text/plain": [
       "array([1, 1, 1, 1, 1, 1])"
      ]
     },
     "execution_count": 30,
     "metadata": {},
     "output_type": "execute_result"
    }
   ],
   "source": [
    "x = np.ones((6),dtype=int)\n",
    "x"
   ]
  },
  {
   "cell_type": "code",
   "execution_count": 31,
   "id": "a87de847",
   "metadata": {},
   "outputs": [
    {
     "data": {
      "text/plain": [
       "array([[0, 0, 0, 0, 0, 0, 0, 0],\n",
       "       [0, 0, 0, 0, 0, 0, 0, 0],\n",
       "       [0, 0, 0, 0, 0, 0, 0, 0],\n",
       "       [0, 0, 0, 0, 0, 0, 0, 0]])"
      ]
     },
     "execution_count": 31,
     "metadata": {},
     "output_type": "execute_result"
    }
   ],
   "source": [
    "z = np.zeros((4,8),dtype=int)\n",
    "z"
   ]
  },
  {
   "cell_type": "code",
   "execution_count": 34,
   "id": "e9a29a7c",
   "metadata": {},
   "outputs": [
    {
     "name": "stdout",
     "output_type": "stream",
     "text": [
      "[ 1  2  3  4  5  6  7  8  9 10 11 12 13 14 15 16 17 18 19 20]\n"
     ]
    }
   ],
   "source": [
    "a = np.arange(1,21) #1 - 20 sorted data list \n",
    "print(a)"
   ]
  },
  {
   "cell_type": "code",
   "execution_count": 36,
   "id": "05c6c1c6",
   "metadata": {},
   "outputs": [
    {
     "name": "stdout",
     "output_type": "stream",
     "text": [
      "[ 1  3  5  7  9 11 13 15 17 19]\n"
     ]
    },
    {
     "data": {
      "text/plain": [
       "array([ 2,  4,  6,  8, 10, 12, 14, 16, 18, 20])"
      ]
     },
     "execution_count": 36,
     "metadata": {},
     "output_type": "execute_result"
    }
   ],
   "source": [
    "#print only the sorted odd numbers\n",
    "\n",
    "b = np.arange(1,21,2)\n",
    "print(b)\n",
    "\n",
    "#print only the sorted even numbers\n",
    "c = np.arange(2,21,2)\n",
    "c"
   ]
  },
  {
   "cell_type": "code",
   "execution_count": 44,
   "id": "d54f4fdb",
   "metadata": {},
   "outputs": [
    {
     "name": "stdout",
     "output_type": "stream",
     "text": [
      "[[ 1  3  5  7  9]\n",
      " [11 13 15 17 19]]\n",
      "\n",
      "[[ 2  4  6  8 10]\n",
      " [12 14 16 18 20]]\n"
     ]
    }
   ],
   "source": [
    "b = b.reshape(2,5)\n",
    "print(b)\n",
    "\n",
    "print()\n",
    "\n",
    "c= c.reshape(2,5)\n",
    "print(c)"
   ]
  },
  {
   "cell_type": "code",
   "execution_count": 46,
   "id": "0bf1e785",
   "metadata": {},
   "outputs": [
    {
     "name": "stdout",
     "output_type": "stream",
     "text": [
      "[[20 22 24]\n",
      " [26 28 30]\n",
      " [32 34 36]\n",
      " [38 40 42]\n",
      " [44 46 48]\n",
      " [50 52 54]]\n"
     ]
    }
   ],
   "source": [
    "a = np.arange(0,18)\n",
    "a = a.reshape(6,3)\n",
    "\n",
    "b = np.arange(20,38)\n",
    "b = b.reshape(6,3)\n",
    "\n",
    "c = a+b\n",
    "\n",
    "print(c)"
   ]
  },
  {
   "cell_type": "code",
   "execution_count": null,
   "id": "c77168db",
   "metadata": {},
   "outputs": [],
   "source": []
  }
 ],
 "metadata": {
  "kernelspec": {
   "display_name": "Python 3",
   "language": "python",
   "name": "python3"
  },
  "language_info": {
   "codemirror_mode": {
    "name": "ipython",
    "version": 3
   },
   "file_extension": ".py",
   "mimetype": "text/x-python",
   "name": "python",
   "nbconvert_exporter": "python",
   "pygments_lexer": "ipython3",
   "version": "3.13.3"
  }
 },
 "nbformat": 4,
 "nbformat_minor": 5
}
